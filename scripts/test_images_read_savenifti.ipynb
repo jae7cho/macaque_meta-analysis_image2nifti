{
 "cells": [
  {
   "cell_type": "markdown",
   "metadata": {},
   "source": [
    "### Read in figure images and save as nifti"
   ]
  },
  {
   "cell_type": "code",
   "execution_count": null,
   "metadata": {},
   "outputs": [],
   "source": [
    "import numpy as np\n",
    "import nibabel as nib\n",
    "import matplotlib.pyplot as plt\n",
    "import glob\n",
    "from PIL import Image"
   ]
  },
  {
   "cell_type": "markdown",
   "metadata": {},
   "source": [
    "## Everything should be a function with top loop going through figures from glob:\n",
    " * function(paperName, figureName)):"
   ]
  },
  {
   "cell_type": "code",
   "execution_count": null,
   "metadata": {},
   "outputs": [],
   "source": [
    "tiffImgPath = glob.glob('../paper_images/Bongioanni_2021_all/Bongioanni_2021aa_Fig1/*.tiff')\n",
    "nothing, paper_images, paperName, figureName, figureNumber = tiffImgPath[0].split('/')\n",
    "niftiOutpath = '../image2nifti/%s/%s' % (paperName,figureName)\n",
    "figureNumber = figureNumber.split('tiff')[0]"
   ]
  },
  {
   "cell_type": "code",
   "execution_count": null,
   "metadata": {},
   "outputs": [],
   "source": []
  },
  {
   "cell_type": "code",
   "execution_count": null,
   "metadata": {},
   "outputs": [],
   "source": [
    "tiffImgs = []\n",
    "for i in tiffImgPath:\n",
    "    tiffImgs.append(np.array(Image.open(i)))"
   ]
  },
  {
   "cell_type": "markdown",
   "metadata": {},
   "source": [
    "### Can extract functional activation clusters (grey has same RGB values)\n",
    "#### Formula to convert from RGB to grayscale: \n",
    " * L = R * 2125/10000 + G * 7154/10000 + B * 0721/10000"
   ]
  },
  {
   "cell_type": "markdown",
   "metadata": {},
   "source": [
    "#### Extract grayscale image:"
   ]
  },
  {
   "cell_type": "code",
   "execution_count": null,
   "metadata": {
    "scrolled": true
   },
   "outputs": [],
   "source": [
    "tiffImgs_grey = []\n",
    "for i in range(len(tiffImgs)):\n",
    "    tiffImg = tiffImgs[i]\n",
    "    R = tiffImg[:,:,0]\n",
    "    G = tiffImg[:,:,1]\n",
    "    B = tiffImg[:,:,2]\n",
    "    L = R*0.2125+G*0.7174+B*0.0721\n",
    "    tiffImgs_grey.append(L)\n",
    "    plt.figure()\n",
    "    plt.imshow(L,cmap='Greys')"
   ]
  },
  {
   "cell_type": "markdown",
   "metadata": {},
   "source": [
    "#### Extract functional clusters:\n",
    " * Find where RGB are not equal"
   ]
  },
  {
   "cell_type": "code",
   "execution_count": null,
   "metadata": {},
   "outputs": [],
   "source": [
    "x,y,rgb = tiffImgs[0].shape\n",
    "structImg = tiffImgs[0].copy()"
   ]
  },
  {
   "cell_type": "markdown",
   "metadata": {},
   "source": [
    "##### Do this in 1 line:\n"
   ]
  },
  {
   "cell_type": "code",
   "execution_count": null,
   "metadata": {},
   "outputs": [],
   "source": [
    "funcImg = tiffImgs[0].copy()\n",
    "for i in range(x):\n",
    "    for j in range(y):\n",
    "        if funcImg[i,j,0] == funcImg[i,j,1]:\n",
    "            funcImg[i,j,:] = 0"
   ]
  },
  {
   "cell_type": "code",
   "execution_count": null,
   "metadata": {
    "scrolled": true
   },
   "outputs": [],
   "source": [
    "plt.figure()\n",
    "plt.imshow(tiffImgs[0])\n",
    "plt.figure()\n",
    "plt.imshow(funcImg)"
   ]
  },
  {
   "cell_type": "markdown",
   "metadata": {},
   "source": [
    "#### Save grayscale MRI image and functional cluster image:"
   ]
  },
  {
   "cell_type": "code",
   "execution_count": null,
   "metadata": {},
   "outputs": [],
   "source": [
    "flatFuncImg = funcImg.reshape([funcImg.shape[0]*funcImg.shape[1],funcImg.shape[2]])\n",
    "funcGrayscaleFlat = []\n",
    "for i in range(flatFuncImg.shape[0]):\n",
    "    funcGrayscaleFlat.append(flatFuncImg[i,0] * 2125/10000 + flatFuncImg[i,1] * 7154/10000 + flatFuncImg[i,2] * 721/10000)\n",
    "funcGrayscaleData = np.array(funcGrayscaleFlat).reshape([funcImg.shape[0],funcImg.shape[1],1])\n",
    "plt.figure()\n",
    "plt.imshow(funcGrayscaleData[:,:,0],cmap='hot_r')\n",
    "\n",
    "flatStructImg = structImg.reshape([structImg.shape[0]*structImg.shape[1],structImg.shape[2]])\n",
    "structGrayscaleFlat = []\n",
    "for i in range(flatStructImg.shape[0]):\n",
    "    structGrayscaleFlat.append(flatStructImg[i,0] * 2125/10000 + flatStructImg[i,1] * 7154/10000 + flatStructImg[i,2] * 721/10000)\n",
    "structGrayscaleData = np.array(structGrayscaleFlat).reshape([structImg.shape[0],structImg.shape[1],1])\n",
    "plt.figure()\n",
    "plt.imshow(structGrayscaleData[:,:,0],cmap='Greys')"
   ]
  },
  {
   "cell_type": "code",
   "execution_count": null,
   "metadata": {},
   "outputs": [],
   "source": [
    "# Flipping could be different for each figure/\n",
    "saveData = np.rot90(structGrayscaleData[:,:,0],3)\n",
    "saveData = saveData.reshape([saveData.shape[0],1,saveData.shape[1]])\n",
    "saveData[saveData==255] = 0\n",
    "img = nib.Nifti1Image(saveData, np.eye(4))\n",
    "img.get_data_dtype() == np.dtype(np.int16)\n",
    "img.header.get_xyzt_units()\n",
    "('unknown', 'unknown')\n",
    "nib.save(img, '%s/%s_%s_grayscale.nii' % (niftiOutpath,figureName,figureNumber))\n",
    "\n"
   ]
  },
  {
   "cell_type": "code",
   "execution_count": null,
   "metadata": {},
   "outputs": [],
   "source": []
  },
  {
   "cell_type": "code",
   "execution_count": null,
   "metadata": {},
   "outputs": [],
   "source": []
  }
 ],
 "metadata": {
  "kernelspec": {
   "display_name": "Python 3",
   "language": "python",
   "name": "python3"
  },
  "language_info": {
   "codemirror_mode": {
    "name": "ipython",
    "version": 3
   },
   "file_extension": ".py",
   "mimetype": "text/x-python",
   "name": "python",
   "nbconvert_exporter": "python",
   "pygments_lexer": "ipython3",
   "version": "3.6.8"
  }
 },
 "nbformat": 4,
 "nbformat_minor": 2
}
